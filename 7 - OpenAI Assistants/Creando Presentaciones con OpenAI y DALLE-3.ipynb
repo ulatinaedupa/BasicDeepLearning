{
 "cells": [
  {
   "cell_type": "markdown",
   "metadata": {},
   "source": [
    "# Delivering Slides with Agents (GPT-4) y DALL-E-3.\n",
    "\n",
    "This notebook is an updated version of the openai agents called assistants [Assistants API](https://platform.openai.com/docs/assistants/overview) with  GPT-4, and DALL·E-3 on delivering slides. \n",
    "\n",
    "Making slides is hardworking and could be tedious and time demanding.  Additionally extract relevan information and articulate effectively words on slides could be challenging and demanding.\n",
    "\n",
    "This notebook demonstrates how to enable the assistants to work for you doing a powerpoint presentation or google sheets saving valuable time."
   ]
  },
  {
   "cell_type": "markdown",
   "metadata": {},
   "source": [
    "## 0. Settings"
   ]
  },
  {
   "cell_type": "code",
   "execution_count": 1,
   "metadata": {},
   "outputs": [],
   "source": [
    "from IPython.display import display, Image\n",
    "from openai import OpenAI\n",
    "import os\n",
    "import pandas as pd\n",
    "import json\n",
    "import io\n",
    "from PIL import Image\n",
    "import requests\n",
    "\n",
    "client = OpenAI(api_key=os.environ.get(\"OPENAI_API_KEY\", \"\"))\n",
    "\n",
    "#Lets import some helper functions for assistants from https://cookbook.openai.com/examples/assistants_api_overview_python\n",
    "\n",
    "# Function to display a JSON File\n",
    "def show_json(obj):\n",
    "    display(json.loads(obj.model_dump_json()))\n",
    "\n",
    "# you can change the model if you are on text only\n",
    "def submit_message(assistant_id, thread, user_message, model=None, file_ids=None):\n",
    "    if model: \n",
    "        client.beta.assistants.update(assistant_id=assistant_id, model=model)\n",
    "\n",
    "    params = {\n",
    "        'thread_id': thread.id,\n",
    "        'role': 'user',\n",
    "        'content': user_message,\n",
    "        }\n",
    "    \n",
    "    if file_ids:\n",
    "        #client.beta.assistants.update(assistant_id=assistant_id, tool_resources={\"code_interpreter\":{\"file_ids\":file_ids}})        \n",
    "        params['attachments'] = [{ \"file_id\": fid, \"tools\": [{\"type\": \"code_interpreter\"}]} for fid in file_ids]\n",
    "        \n",
    "    client.beta.threads.messages.create(**params) # create a thread\n",
    "    return client.beta.threads.runs.create(thread_id=thread.id, assistant_id=assistant_id)\n",
    "\n",
    "def get_response(thread):\n",
    "    return client.beta.threads.messages.list(thread_id=thread.id)"
   ]
  },
  {
   "cell_type": "markdown",
   "metadata": {},
   "source": [
    "## 1. Creating the content"
   ]
  },
  {
   "cell_type": "markdown",
   "metadata": {},
   "source": [
    "Let's get the financial data, the data is in json format and represents a fake company quarter data. Let's take a look before insights"
   ]
  },
  {
   "cell_type": "code",
   "execution_count": 2,
   "metadata": {},
   "outputs": [
    {
     "data": {
      "text/html": [
       "<div>\n",
       "<style scoped>\n",
       "    .dataframe tbody tr th:only-of-type {\n",
       "        vertical-align: middle;\n",
       "    }\n",
       "\n",
       "    .dataframe tbody tr th {\n",
       "        vertical-align: top;\n",
       "    }\n",
       "\n",
       "    .dataframe thead th {\n",
       "        text-align: right;\n",
       "    }\n",
       "</style>\n",
       "<table border=\"1\" class=\"dataframe\">\n",
       "  <thead>\n",
       "    <tr style=\"text-align: right;\">\n",
       "      <th></th>\n",
       "      <th>Year</th>\n",
       "      <th>Quarter</th>\n",
       "      <th>Distribution channel</th>\n",
       "      <th>Revenue ($M)</th>\n",
       "      <th>Costs ($M)</th>\n",
       "      <th>Customer count</th>\n",
       "      <th>Time</th>\n",
       "    </tr>\n",
       "  </thead>\n",
       "  <tbody>\n",
       "    <tr>\n",
       "      <th>0</th>\n",
       "      <td>2021</td>\n",
       "      <td>Q1</td>\n",
       "      <td>Online Sales</td>\n",
       "      <td>1.50</td>\n",
       "      <td>1.301953</td>\n",
       "      <td>150</td>\n",
       "      <td>2021 Q1</td>\n",
       "    </tr>\n",
       "    <tr>\n",
       "      <th>1</th>\n",
       "      <td>2021</td>\n",
       "      <td>Q1</td>\n",
       "      <td>Direct Sales</td>\n",
       "      <td>1.50</td>\n",
       "      <td>1.380809</td>\n",
       "      <td>151</td>\n",
       "      <td>2021 Q1</td>\n",
       "    </tr>\n",
       "    <tr>\n",
       "      <th>2</th>\n",
       "      <td>2021</td>\n",
       "      <td>Q1</td>\n",
       "      <td>Retail Partners</td>\n",
       "      <td>1.50</td>\n",
       "      <td>1.348246</td>\n",
       "      <td>152</td>\n",
       "      <td>2021 Q1</td>\n",
       "    </tr>\n",
       "    <tr>\n",
       "      <th>3</th>\n",
       "      <td>2021</td>\n",
       "      <td>Q2</td>\n",
       "      <td>Online Sales</td>\n",
       "      <td>1.52</td>\n",
       "      <td>1.308608</td>\n",
       "      <td>152</td>\n",
       "      <td>2021 Q2</td>\n",
       "    </tr>\n",
       "    <tr>\n",
       "      <th>4</th>\n",
       "      <td>2021</td>\n",
       "      <td>Q2</td>\n",
       "      <td>Direct Sales</td>\n",
       "      <td>1.52</td>\n",
       "      <td>1.413305</td>\n",
       "      <td>153</td>\n",
       "      <td>2021 Q2</td>\n",
       "    </tr>\n",
       "  </tbody>\n",
       "</table>\n",
       "</div>"
      ],
      "text/plain": [
       "   Year Quarter Distribution channel  Revenue ($M)  Costs ($M)  \\\n",
       "0  2021      Q1         Online Sales          1.50    1.301953   \n",
       "1  2021      Q1         Direct Sales          1.50    1.380809   \n",
       "2  2021      Q1      Retail Partners          1.50    1.348246   \n",
       "3  2021      Q2         Online Sales          1.52    1.308608   \n",
       "4  2021      Q2         Direct Sales          1.52    1.413305   \n",
       "\n",
       "   Customer count     Time  \n",
       "0             150  2021 Q1  \n",
       "1             151  2021 Q1  \n",
       "2             152  2021 Q1  \n",
       "3             152  2021 Q2  \n",
       "4             153  2021 Q2  "
      ]
     },
     "execution_count": 2,
     "metadata": {},
     "output_type": "execute_result"
    }
   ],
   "source": [
    "financial_data_path = 'data/data_financiera.json'\n",
    "financial_data = pd.read_json(financial_data_path)\n",
    "financial_data.head(5)"
   ]
  },
  {
   "cell_type": "markdown",
   "metadata": {},
   "source": [
    "The dataset has quarterly revenue across the years, quarters and distribution channels. We will create an assistant that can personally create a good powerpoint presentation."
   ]
  },
  {
   "cell_type": "markdown",
   "metadata": {},
   "source": [
    "#### 1.1 Example Assistants use"
   ]
  },
  {
   "cell_type": "markdown",
   "metadata": {},
   "source": [
    "##### 1.1.1 First, we need to upload our file so our Assistant can access it."
   ]
  },
  {
   "cell_type": "code",
   "execution_count": 3,
   "metadata": {},
   "outputs": [],
   "source": [
    "file = client.files.create(\n",
    "  file=open('data/data_financiera.json',\"rb\"),\n",
    "  purpose='assistants',\n",
    ")"
   ]
  },
  {
   "cell_type": "markdown",
   "metadata": {},
   "source": [
    "#####  1.1.2 Next we need to create the assistant\n",
    "\n",
    "Now, we're ready to create our Assistant. Let's instruct our assistant to act as a data scientist, take some queries to run the necessary code to output the visualization. The instruction is similar to the chatcompletion endpoint, and this will serve as help to the assistant. We also will turn on the tool of Code Interpreter enable our assistant to code.  Finally we can specify to the assistant any files we want to use but i will prefer to do that when the task is created; let's create the assistant."
   ]
  },
  {
   "cell_type": "code",
   "execution_count": 4,
   "metadata": {},
   "outputs": [],
   "source": [
    "assistant = client.beta.assistants.create(\n",
    "  instructions=\"Eres un asistente de ciencia de datos. Cada vez que recibas un query, escribe el codigo que corresponde y crea una visualización apropiada.\",\n",
    "  name = \"data_science_ppt_creator\",\n",
    "  model=\"gpt-4-1106-preview\",\n",
    "  tools=[{\"type\": \"code_interpreter\"}], \n",
    "  # tool_resources={\n",
    "  #     \"code_interpreter\": {\n",
    "  #         \"file_ids\":[file.id]\n",
    "  #     }\n",
    "  # }\n",
    ")"
   ]
  },
  {
   "cell_type": "markdown",
   "metadata": {},
   "source": [
    "#####  1.1.3 Next we need to create the thread\n",
    "\n",
    "Now, let's create the thread as our request of the assistant to calculate quarter profits and plot the distribution channel over time.  \n",
    "\n",
    "We will calculate the profits and later will tell the LLM to plot the profits by distribution channel over time. The assistant will automatically calculate the profit each quarter and also will combining quarter and year in a new column without telling anything directly, we could also tell the color of lines."
   ]
  },
  {
   "cell_type": "code",
   "execution_count": 5,
   "metadata": {},
   "outputs": [],
   "source": [
    "thread = client.beta.threads.create(\n",
    "  messages=[\n",
    "    {\n",
    "      \"role\": \"user\",\n",
    "      \"content\": \"Del archivo .json cargado: Calcular la utilidad (ingreso - gasto)  por cuarto y por año, visualizalo en un grafico de lineas a traves de la distribución de canales, donde los colores de las lineas son rojo, verde, and azul claro\",\n",
    "      \"attachments\": [{\"file_id\": file.id, \"tools\": [{\"type\": \"code_interpreter\"}]}]\n",
    "    }\n",
    "  ]\n",
    ")"
   ]
  },
  {
   "cell_type": "markdown",
   "metadata": {},
   "source": [
    "##### 1.1.4 Run the thread\n",
    "\n",
    "With everything ready, let's run the thread"
   ]
  },
  {
   "cell_type": "code",
   "execution_count": 6,
   "metadata": {},
   "outputs": [],
   "source": [
    "run = client.beta.threads.runs.create(thread_id=thread.id, assistant_id=assistant.id)"
   ]
  },
  {
   "cell_type": "code",
   "execution_count": 7,
   "metadata": {},
   "outputs": [],
   "source": [
    "#client.beta.threads.delete(run.thread_id)"
   ]
  },
  {
   "cell_type": "markdown",
   "metadata": {},
   "source": [
    "##### 1.1.5 Loop over the message list\n",
    "\n",
    "We can start to look over the list of created messages.\n",
    "\n",
    "NOTE:  For some actions this could take some minutes."
   ]
  },
  {
   "cell_type": "code",
   "execution_count": 8,
   "metadata": {},
   "outputs": [],
   "source": [
    "messages = client.beta.threads.messages.list(thread_id=thread.id)"
   ]
  },
  {
   "cell_type": "code",
   "execution_count": 9,
   "metadata": {},
   "outputs": [
    {
     "data": {
      "text/plain": [
       "SyncCursorPage[Message](data=[Message(id='msg_Cy2OuCUv7yni0ex9Z52127Ze', assistant_id='asst_zrdWolhagCAcb8uyrRjXu2TR', attachments=[], completed_at=None, content=[TextContentBlock(text=Text(annotations=[], value='Antes de poder calcular la utilidad y visualizarla, tendré que cargar y examinar el contenido del archivo JSON para entender su estructura. Comencemos leyendo el archivo para ver qué tipo de datos contiene.'), type='text')], created_at=1714117747, incomplete_at=None, incomplete_details=None, metadata={}, object='thread.message', role='assistant', run_id='run_I9slGFKNq4dFRaPDEgNKzEgy', status=None, thread_id='thread_KbYDPm3UWvRuUizB8wc9fbja'), Message(id='msg_jLsl2SMTXumCW78q4t1ySNgB', assistant_id=None, attachments=[Attachment(file_id='file-lN3ysRA1DthMvoWNgJxXVViU', tools=[CodeInterpreterTool(type='code_interpreter')])], completed_at=None, content=[TextContentBlock(text=Text(annotations=[], value='Del archivo .json cargado: Calcular la utilidad (ingreso - gasto)  por cuarto y por año, visualizalo en un grafico de lineas a traves de la distribución de canales, donde los colores de las lineas son rojo, verde, and azul claro'), type='text')], created_at=1714117745, incomplete_at=None, incomplete_details=None, metadata={}, object='thread.message', role='user', run_id=None, status=None, thread_id='thread_KbYDPm3UWvRuUizB8wc9fbja')], object='list', first_id='msg_Cy2OuCUv7yni0ex9Z52127Ze', last_id='msg_jLsl2SMTXumCW78q4t1ySNgB', has_more=False)"
      ]
     },
     "execution_count": 9,
     "metadata": {},
     "output_type": "execute_result"
    }
   ],
   "source": [
    "messages"
   ]
  },
  {
   "cell_type": "code",
   "execution_count": 10,
   "metadata": {},
   "outputs": [
    {
     "name": "stdout",
     "output_type": "stream",
     "text": [
      "Assistant still working...\n",
      "Assistant still working...\n",
      "Assistant still working...\n",
      "Assistant still working...\n",
      "Plot created!\n"
     ]
    }
   ],
   "source": [
    "import time\n",
    "\n",
    "while True:\n",
    "    messages = client.beta.threads.messages.list(thread_id=thread.id)\n",
    "    try:\n",
    "        #See if image has been created\n",
    "        messages.data[0].content[0].image_file\n",
    "        #Sleep to make sure run has completed\n",
    "        time.sleep(5)\n",
    "        print('Plot created!')\n",
    "        break\n",
    "    except:\n",
    "        time.sleep(10)\n",
    "        print('Assistant still working...')"
   ]
  },
  {
   "cell_type": "code",
   "execution_count": 12,
   "metadata": {},
   "outputs": [],
   "source": [
    "# to stop the runs\n",
    "#client.beta.threads.runs.cancel(run_id=run.id, thread_id=thread.id)"
   ]
  },
  {
   "cell_type": "markdown",
   "metadata": {},
   "source": [
    "##### 1.1.6 Let's loop over the mesages\n",
    "\n",
    "Let's see the messages the Assistant added.  As you see everything is intended to be in blocks, for example if we want to access the imagefile it will be message.content[0].image_file.file_id."
   ]
  },
  {
   "cell_type": "code",
   "execution_count": 11,
   "metadata": {},
   "outputs": [
    {
     "data": {
      "text/plain": [
       "[ImageFileContentBlock(image_file=ImageFile(file_id='file-Tx9ZdN7wOYySwk415uoksJ3o'), type='image_file'),\n",
       " TextContentBlock(text=Text(annotations=[], value=\"Ahora que tengo los datos en un DataFrame de pandas, calcularé la utilidad (ingreso - gasto) por trimestre y año, agrupándolos por 'Distribution channel'. A continuación, voy a generar una visualización en un gráfico de líneas para mostrar la distribución de utilidades a través de los diferentes canales con colores específicos.\"), type='text'),\n",
       " TextContentBlock(text=Text(annotations=[], value='Parece que los datos JSON tienen una estructura tabular donde `Year`, `Quarter`, `Channel`, `Revenue`, y `Expenses` podrían ser columnas clave para calcular las utilidades. Sin embargo, dado que solo mostré los primeros 1000 caracteres, no tengo toda la información para confirmar esto. \\n\\nVoy a continuar explorando la estructura completa del archivo y luego cargaré los datos en un DataFrame de pandas para proceder con los cálculos y la visualización solicitada.'), type='text'),\n",
       " TextContentBlock(text=Text(annotations=[], value='Antes de poder calcular la utilidad y visualizarla, tendré que cargar y examinar el contenido del archivo JSON para entender su estructura. Comencemos leyendo el archivo para ver qué tipo de datos contiene.'), type='text'),\n",
       " TextContentBlock(text=Text(annotations=[], value='Del archivo .json cargado: Calcular la utilidad (ingreso - gasto)  por cuarto y por año, visualizalo en un grafico de lineas a traves de la distribución de canales, donde los colores de las lineas son rojo, verde, and azul claro'), type='text')]"
      ]
     },
     "execution_count": 11,
     "metadata": {},
     "output_type": "execute_result"
    }
   ],
   "source": [
    "messages = client.beta.threads.messages.list(thread_id=thread.id)\n",
    "[message.content[0] for message in messages.data]"
   ]
  },
  {
   "cell_type": "markdown",
   "metadata": {},
   "source": [
    "We can see that the last message (latest message is shown first) from the assistant contains the image file we are looking for. An interesting note here is that the Assistant was able to attempt several times to parse the JSON data, as the first parsing was unsuccessful, demonstrating the assistant's adaptability."
   ]
  },
  {
   "cell_type": "code",
   "execution_count": 12,
   "metadata": {},
   "outputs": [],
   "source": [
    "# Quick helper function to convert our output file to a png\n",
    "def convert_file_to_png(file_id, write_path):\n",
    "    data = client.files.content(file_id)\n",
    "    data_bytes = data.read()\n",
    "    with open(write_path, \"wb\") as file:\n",
    "        file.write(data_bytes)"
   ]
  },
  {
   "cell_type": "code",
   "execution_count": 13,
   "metadata": {},
   "outputs": [],
   "source": [
    "plot_file_id = messages.data[0].content[0].image_file.file_id\n",
    "image_path = \"imgs/grafica_financiera.png\"\n",
    "convert_file_to_png(plot_file_id,image_path)\n",
    "\n",
    "#Upload\n",
    "plot_file = client.files.create(\n",
    "  file=open(image_path, \"rb\"),\n",
    "  purpose='assistants'\n",
    ")\n"
   ]
  },
  {
   "cell_type": "markdown",
   "metadata": {},
   "source": [
    "Let's load in the plot!"
   ]
  },
  {
   "cell_type": "markdown",
   "metadata": {},
   "source": [
    "![The Image](imgs/grafica_financiera.png)"
   ]
  },
  {
   "cell_type": "markdown",
   "metadata": {},
   "source": [
    "Nice! So, with just one sentence, we were able to have our assistant use code interpreter to\n",
    "calculate the profitability, and graph the three lineplots of the various distribution channels.<br><br>\n",
    "Now we have a nice visual for our slide, but we want some insights to go along with it."
   ]
  },
  {
   "cell_type": "markdown",
   "metadata": {},
   "source": [
    "## 2. Generating insights"
   ]
  },
  {
   "cell_type": "markdown",
   "metadata": {},
   "source": [
    "In the same thread, let's use the image and let the assistant to generate insights.  Our assistant will retreive the message history to give us the pros and cons of concise information of the takeaway. \n",
    "\n",
    "Let's use our helper function in line 1 that will keep everything in order using the same thread (or other, in this case the same)."
   ]
  },
  {
   "cell_type": "code",
   "execution_count": 14,
   "metadata": {},
   "outputs": [
    {
     "data": {
      "text/plain": [
       "Run(id='run_ayPA0C6TMyvfZZTm9BhWQKmK', assistant_id='asst_zrdWolhagCAcb8uyrRjXu2TR', cancelled_at=None, completed_at=None, created_at=1714117827, expires_at=1714118427, failed_at=None, incomplete_details=None, instructions='Eres un asistente de ciencia de datos. Cada vez que recibas un query, escribe el codigo que corresponde y crea una visualización apropiada.', last_error=None, max_completion_tokens=None, max_prompt_tokens=None, metadata={}, model='gpt-4-turbo', object='thread.run', required_action=None, response_format='auto', started_at=None, status='queued', thread_id='thread_KbYDPm3UWvRuUizB8wc9fbja', tool_choice='auto', tools=[CodeInterpreterTool(type='code_interpreter')], truncation_strategy=TruncationStrategy(type='auto', last_messages=None), usage=None, temperature=1.0, top_p=1.0, tool_resources={})"
      ]
     },
     "execution_count": 14,
     "metadata": {},
     "output_type": "execute_result"
    }
   ],
   "source": [
    "submit_message(assistant_id=assistant.id, \n",
    "               thread=thread, \n",
    "               model=\"gpt-4-turbo\", \n",
    "               file_ids=None,\n",
    "               user_message=\"Escribe dos oraciones de largo aproximadamente medio (~20-30 palabras por oracion) de \\\n",
    "lo mas importante captado de la gráfica que acabas de crear. Esta grafica será añadida para un  conjunto de diapositivas, \\\n",
    "y ellas deberian representar acerca del '¿Que hay detras de los datos?'.\")"
   ]
  },
  {
   "cell_type": "markdown",
   "metadata": {},
   "source": [
    "Now, once the run has completed, we can see the latest message"
   ]
  },
  {
   "cell_type": "code",
   "execution_count": 16,
   "metadata": {},
   "outputs": [
    {
     "name": "stdout",
     "output_type": "stream",
     "text": [
      "El gráfico demuestra que la utilidad generada por las ventas en línea ha mostrado una tendencia generalmente positiva y consistente a lo largo del tiempo, indicando un crecimiento estable y fiable en este canal. Por otro lado, las fluctuaciones en los canales de ventas directas y socios minoristas sugieren una variabilidad en la efectividad de estas estrategias a lo largo de los diferentes trimestres y años, lo que podría señalar áreas de oportunidad para optimización y mejora.\n"
     ]
    }
   ],
   "source": [
    "# Hard coded wait for a response, as the assistant may iterate on the bullets.\n",
    "time.sleep(10)\n",
    "response = get_response(thread)\n",
    "bullet_points = response.data[0].content[0].text.value\n",
    "print(bullet_points)"
   ]
  },
  {
   "cell_type": "markdown",
   "metadata": {},
   "source": [
    "Cool! So our assistant was able to identify the noteworthy growth in Online Sales profit, and infer that this shows the importance of a large digital presence. Now let's get a compelling title for the slide."
   ]
  },
  {
   "cell_type": "code",
   "execution_count": 17,
   "metadata": {},
   "outputs": [
    {
     "data": {
      "text/plain": [
       "Run(id='run_vXiZnwDLaG52QMYfRGrTtIlh', assistant_id='asst_zrdWolhagCAcb8uyrRjXu2TR', cancelled_at=None, completed_at=None, created_at=1714117867, expires_at=1714118467, failed_at=None, incomplete_details=None, instructions='Eres un asistente de ciencia de datos. Cada vez que recibas un query, escribe el codigo que corresponde y crea una visualización apropiada.', last_error=None, max_completion_tokens=None, max_prompt_tokens=None, metadata={}, model='gpt-4-turbo', object='thread.run', required_action=None, response_format='auto', started_at=None, status='queued', thread_id='thread_KbYDPm3UWvRuUizB8wc9fbja', tool_choice='auto', tools=[CodeInterpreterTool(type='code_interpreter')], truncation_strategy=TruncationStrategy(type='auto', last_messages=None), usage=None, temperature=1.0, top_p=1.0, tool_resources={})"
      ]
     },
     "execution_count": 17,
     "metadata": {},
     "output_type": "execute_result"
    }
   ],
   "source": [
    "submit_message(assistant_id=assistant.id, thread=thread, model=\"gpt-4-turbo\", user_message=\"Dada la gráfica y las viñetas que has creado,\\\n",
    " piense en un titulo muy breve para una diapositiva. Debe reflejar solo las ideas principales que se te ocurrieron.\"\n",
    ")"
   ]
  },
  {
   "cell_type": "markdown",
   "metadata": {},
   "source": [
    "And the title is.....-:"
   ]
  },
  {
   "cell_type": "code",
   "execution_count": 18,
   "metadata": {},
   "outputs": [
    {
     "name": "stdout",
     "output_type": "stream",
     "text": [
      "\"Evolución y Oportunidades en la Utilidad de Diferentes Canales de Distribución\"\n"
     ]
    }
   ],
   "source": [
    "#Wait as assistant may take a few steps\n",
    "time.sleep(10)\n",
    "response = get_response(thread)\n",
    "title = response.data[0].content[0].text.value\n",
    "print(title)"
   ]
  },
  {
   "cell_type": "markdown",
   "metadata": {},
   "source": [
    "## 3. DALL·E-3 title image"
   ]
  },
  {
   "cell_type": "markdown",
   "metadata": {},
   "source": [
    "Now let's use Dall-E-3 to generate the slide first page image of the presentation. <br><br>"
   ]
  },
  {
   "cell_type": "code",
   "execution_count": 19,
   "metadata": {},
   "outputs": [],
   "source": [
    "company_summary = \"MiEmpresaFinanciera es una empresa promiennte de hardware que manufactura y vende procesadores, tarjetas gráficas\\\n",
    " y otras piezas esenciales de hardware de computadoras.\""
   ]
  },
  {
   "cell_type": "code",
   "execution_count": 20,
   "metadata": {},
   "outputs": [],
   "source": [
    "response = client.images.generate(\n",
    "  model='dall-e-3',\n",
    "  prompt=f\"Dado este resumen de la empresa {company_summary}, crea una foto inspiradora que \\\n",
    "  muestre el crecimiento y el camino a seguir. Esto se utilizará en una reunión trimestral \\\n",
    "  de planificación financiera\",\n",
    "       size=\"1024x1024\",\n",
    "       quality=\"hd\",\n",
    "       n=1\n",
    ")\n",
    "image_url = response.data[0].url"
   ]
  },
  {
   "cell_type": "markdown",
   "metadata": {},
   "source": [
    "For adding the image to the thread, first, we can save the image locally, then upload it to the assistants API using the `File` upload endpoint. Let's also take a look at our image"
   ]
  },
  {
   "cell_type": "code",
   "execution_count": 21,
   "metadata": {},
   "outputs": [],
   "source": [
    "dalle_img_path = 'imgs/imagen_dalle3.png'\n",
    "img = requests.get(image_url)\n",
    "\n",
    "#Save locally\n",
    "with open(dalle_img_path,'wb') as file:\n",
    "  file.write(img.content)\n",
    "\n",
    "#Upload\n",
    "dalle_file = client.files.create(\n",
    "  file=open(dalle_img_path, \"rb\"),\n",
    "  purpose='assistants'\n",
    ")"
   ]
  },
  {
   "cell_type": "markdown",
   "metadata": {},
   "source": [
    "![dalle3_img](imgs/imagen_dalle3.png \"Titulo PPT\")"
   ]
  },
  {
   "cell_type": "markdown",
   "metadata": {},
   "source": [
    "## 4. Creating the slides"
   ]
  },
  {
   "cell_type": "markdown",
   "metadata": {},
   "source": [
    "We now have all the content we need to create the slides. While we could simply add a message asking for slides, but let's instead give the assistant a slide template, using the `python-pptx` library, to use. This will ensure we get a deck in the style we want. See the `Extensions` section at the end of the notebook for notes on creating the template.\n",
    "\n",
    "Below, title_template is a string that contains the code that will be supplied to the assistant code interpreter and later we will use in the assistant message to generate powerpoint slides"
   ]
  },
  {
   "cell_type": "code",
   "execution_count": 22,
   "metadata": {},
   "outputs": [],
   "source": [
    "title_template = \"\"\"\n",
    "from pptx import Presentation\n",
    "from pptx.util import Inches, Pt\n",
    "from pptx.enum.text import PP_PARAGRAPH_ALIGNMENT\n",
    "from pptx.dml.color import RGBColor\n",
    "\n",
    "# Create a new presentation object\n",
    "prs = Presentation()\n",
    "\n",
    "# Add a blank slide layout\n",
    "blank_slide_layout = prs.slide_layouts[6]\n",
    "slide = prs.slides.add_slide(blank_slide_layout)\n",
    "\n",
    "# Set the background color of the slide to black\n",
    "background = slide.background\n",
    "fill = background.fill\n",
    "fill.solid()\n",
    "fill.fore_color.rgb = RGBColor(0, 0, 0)\n",
    "\n",
    "# Add image to the left side of the slide with a margin at the top and bottom\n",
    "left = Inches(0)\n",
    "top = Inches(0)\n",
    "height = prs.slide_height\n",
    "width = prs.slide_width * 3/5\n",
    "pic = slide.shapes.add_picture(image_path, left, top, width=width, height=height)\n",
    "\n",
    "# Add title text box positioned higher\n",
    "left = prs.slide_width * 3/5\n",
    "top = Inches(2)\n",
    "width = prs.slide_width * 2/5\n",
    "height = Inches(1)\n",
    "title_box = slide.shapes.add_textbox(left, top, width, height)\n",
    "title_frame = title_box.text_frame\n",
    "title_p = title_frame.add_paragraph()\n",
    "title_p.text = title_text\n",
    "title_p.font.bold = True\n",
    "title_p.font.size = Pt(38)\n",
    "title_p.font.color.rgb = RGBColor(255, 255, 255)\n",
    "title_p.alignment = PP_PARAGRAPH_ALIGNMENT.CENTER\n",
    "\n",
    "# Add subtitle text box\n",
    "left = prs.slide_width * 3/5\n",
    "top = Inches(3)\n",
    "width = prs.slide_width * 2/5\n",
    "height = Inches(1)\n",
    "subtitle_box = slide.shapes.add_textbox(left, top, width, height)\n",
    "subtitle_frame = subtitle_box.text_frame\n",
    "subtitle_p = subtitle_frame.add_paragraph()\n",
    "subtitle_p.text = subtitle_text\n",
    "subtitle_p.font.size = Pt(22)\n",
    "subtitle_p.font.color.rgb = RGBColor(255, 255, 255)\n",
    "subtitle_p.alignment = PP_PARAGRAPH_ALIGNMENT.CENTER\n",
    "\"\"\"\n",
    "\n",
    "data_vis_template = \"\"\"\n",
    "from pptx import Presentation\n",
    "from pptx.util import Inches, Pt\n",
    "from pptx.enum.text import PP_PARAGRAPH_ALIGNMENT\n",
    "from pptx.dml.color import RGBColor\n",
    "\n",
    "# Create a new presentation object\n",
    "prs = Presentation()\n",
    "\n",
    "# Add a blank slide layout\n",
    "blank_slide_layout = prs.slide_layouts[6]\n",
    "slide = prs.slides.add_slide(blank_slide_layout)\n",
    "\n",
    "# Set the background color of the slide to black\n",
    "background = slide.background\n",
    "fill = background.fill\n",
    "fill.solid()\n",
    "fill.fore_color.rgb = RGBColor(0, 0, 0)\n",
    "\n",
    "# Define placeholders\n",
    "image_path = data_vis_img\n",
    "title_text = \"Maximizando Beneficios: El Dominio de las Ventas Activas & Optimización de Venta Directa\"\n",
    "bullet_points = \"• Las ventas online consistentemente llevan a ganancias en los cuartos, indicando una fuerte presencia de marketing digital.\\n• Las ventas directas muestran fluctuaciones, sugiriendo desempeño variable y la necesidas de apuntar mejoras en el canal.\"\n",
    "\n",
    "# Add image placeholder on the left side of the slide\n",
    "left = Inches(0.2)\n",
    "top = Inches(1.8)\n",
    "height = prs.slide_height - Inches(3)\n",
    "width = prs.slide_width * 3/5\n",
    "pic = slide.shapes.add_picture(image_path, left, top, width=width, height=height)\n",
    "\n",
    "# Add title text spanning the whole width\n",
    "left = Inches(0)\n",
    "top = Inches(0)\n",
    "width = prs.slide_width\n",
    "height = Inches(1)\n",
    "title_box = slide.shapes.add_textbox(left, top, width, height)\n",
    "title_frame = title_box.text_frame\n",
    "title_frame.margin_top = Inches(0.1)\n",
    "title_p = title_frame.add_paragraph()\n",
    "title_p.text = title_text\n",
    "title_p.font.bold = True\n",
    "title_p.font.size = Pt(28)\n",
    "title_p.font.color.rgb = RGBColor(255, 255, 255)\n",
    "title_p.alignment = PP_PARAGRAPH_ALIGNMENT.CENTER\n",
    "\n",
    "# Add hardcoded \"Key Insights\" text and bullet points\n",
    "left = prs.slide_width * 2/3\n",
    "top = Inches(1.5)\n",
    "width = prs.slide_width * 1/3\n",
    "height = Inches(4.5)\n",
    "insights_box = slide.shapes.add_textbox(left, top, width, height)\n",
    "insights_frame = insights_box.text_frame\n",
    "insights_p = insights_frame.add_paragraph()\n",
    "insights_p.text = \"Key Insights:\"\n",
    "insights_p.font.bold = True\n",
    "insights_p.font.size = Pt(24)\n",
    "insights_p.font.color.rgb = RGBColor(0, 128, 100)\n",
    "insights_p.alignment = PP_PARAGRAPH_ALIGNMENT.LEFT\n",
    "insights_frame.add_paragraph()\n",
    "\n",
    "\n",
    "bullet_p = insights_frame.add_paragraph()\n",
    "bullet_p.text = bullet_points\n",
    "bullet_p.font.size = Pt(12)\n",
    "bullet_p.font.color.rgb = RGBColor(255, 255, 255)\n",
    "bullet_p.line_spacing = 1.5\n",
    "\"\"\"\n",
    "\n"
   ]
  },
  {
   "cell_type": "markdown",
   "metadata": {},
   "source": [
    "Let's set a few quick variables for our slides. We want the company name, MiEmpresaFinanciera, to be on the title slide, and the title of the presentation should 'Quartlerly financial planning metting, Q3, 2023'."
   ]
  },
  {
   "cell_type": "code",
   "execution_count": 23,
   "metadata": {},
   "outputs": [],
   "source": [
    "title_text = \"MiEmpresaFinanciera\"\n",
    "subtitle_text = \"Reunion de Planificacion del Q3, 2023\"\n"
   ]
  },
  {
   "cell_type": "markdown",
   "metadata": {},
   "source": [
    "And for the data slide, we have:"
   ]
  },
  {
   "cell_type": "markdown",
   "metadata": {},
   "source": [
    "Here we have a template to create a Title Slide. The template below was created by uploading the image of a desirable title slide to GPT-V, and asking for the `python-pptx` code to create that template. The inputs to the template are the image_path, title_text, and subtitle_text."
   ]
  },
  {
   "cell_type": "code",
   "execution_count": 24,
   "metadata": {},
   "outputs": [
    {
     "data": {
      "text/plain": [
       "Run(id='run_AtajmVIBa1RjYMG1kvIdRVJR', assistant_id='asst_zrdWolhagCAcb8uyrRjXu2TR', cancelled_at=None, completed_at=None, created_at=1714117945, expires_at=1714118545, failed_at=None, incomplete_details=None, instructions='Eres un asistente de ciencia de datos. Cada vez que recibas un query, escribe el codigo que corresponde y crea una visualización apropiada.', last_error=None, max_completion_tokens=None, max_prompt_tokens=None, metadata={}, model='gpt-4-turbo', object='thread.run', required_action=None, response_format='auto', started_at=None, status='queued', thread_id='thread_KbYDPm3UWvRuUizB8wc9fbja', tool_choice='auto', tools=[CodeInterpreterTool(type='code_interpreter')], truncation_strategy=TruncationStrategy(type='auto', last_messages=None), usage=None, temperature=1.0, top_p=1.0, tool_resources={})"
      ]
     },
     "execution_count": 24,
     "metadata": {},
     "output_type": "execute_result"
    }
   ],
   "source": [
    "run = submit_message(assistant_id=assistant.id, thread=thread, model=\"gpt-4-turbo\", user_message=f\"IMPORTANTE: Utilizar {dalle_file.filename} \\\n",
    "con key_id {dalle_file.id}; utilizar {plot_file.filename} con key_id {plot_file.id} en filmina 2. Utilice la plantilla de código incluida \\\n",
    "para crear una diapositiva PPTX que siga el formato de la plantilla, pero utilice la imagen, el nombre/título de la empresa y el nombre/subtítulo \\\n",
    "del documento incluidos:{title_template}. IMPORTANTE: utilice el archivo de imagen incluido en este mensaje como imagen image_path en esta primera \\\n",
    "diapositiva y utilice el nombre de la empresa {title_text} como variable title_text y  utilice subtitle_text {subtitle_text} como \\\n",
    "variable subtitle_text. A CONTINUACIÓN, cree una SEGUNDA diapositiva usando la siguiente plantilla de código: {data_vis_template} para crear \\\n",
    "una diapositiva PPTX que siga el formato de la plantilla, pero use el nombre/título de la empresa y el nombre/subtítulo del \\\n",
    "documento incluidos: {data_vis_template}. IMPORTANTE: use la imagen del diagrama de líneas, que es la segunda imagen adjunta en \\\n",
    "este mensaje, que creó anteriormente en thread como imagen data_vis_img, y use el título de visualización de datos que creó anteriormente \\\n",
    "para la variable title_text, y las viñetas de conocimientos que creó anteriormente para la variable bullet_points. \\\n",
    "Imprima estas DOS DIAPOSITIVAS como un archivo .pptx. Asegúrese de que el resultado sean dos diapositivas, y que cada diapositiva coincida \\\n",
    "con la plantilla respectiva proporcionada en este mensaje.\",\n",
    "file_ids=[plot_file.id, dalle_file.id]\n",
    ")\n",
    "run"
   ]
  },
  {
   "cell_type": "code",
   "execution_count": 25,
   "metadata": {},
   "outputs": [],
   "source": [
    "# cancelar la corrida\n",
    "#client.beta.threads.runs.cancel(run_id=run.id, thread_id=thread.id)"
   ]
  },
  {
   "cell_type": "code",
   "execution_count": 26,
   "metadata": {},
   "outputs": [
    {
     "name": "stdout",
     "output_type": "stream",
     "text": [
      "Assistant still working on PPTX...\n",
      "Assistant still working on PPTX...\n",
      "Assistant still working on PPTX...\n",
      "Assistant still working on PPTX...\n",
      "Assistant still working on PPTX...\n",
      "Assistant still working on PPTX...\n",
      "Assistant still working on PPTX...\n",
      "Assistant still working on PPTX...\n",
      "Successfully retrieved pptx_id: file-PrOc77t0D8k5Qc9Fmk17SK83\n"
     ]
    }
   ],
   "source": [
    "#May take 1-3 mins\n",
    "while True:\n",
    "    try:\n",
    "        response = get_response(thread)\n",
    "        pptx_id = response.data[0].content[0].text.annotations[0].file_path.file_id\n",
    "        print(\"Successfully retrieved pptx_id:\", pptx_id)\n",
    "        break\n",
    "    except Exception as e:\n",
    "        print(\"Assistant still working on PPTX...\")\n",
    "        time.sleep(10)"
   ]
  },
  {
   "cell_type": "code",
   "execution_count": 27,
   "metadata": {},
   "outputs": [],
   "source": [
    "# para detener la tarea\n",
    "#client.beta.threads.delete(thread_id=thread.id)"
   ]
  },
  {
   "cell_type": "code",
   "execution_count": 30,
   "metadata": {},
   "outputs": [],
   "source": [
    "pptx_id = response.data[0].content[0].text.annotations[0].file_path.file_id\n",
    "ppt_file= client.files.content(pptx_id)\n",
    "file_obj = io.BytesIO(ppt_file.read())\n",
    "with open(\"data/filminas_creadas.pptx\", \"wb\") as f:\n",
    "    f.write(file_obj.getbuffer())"
   ]
  },
  {
   "cell_type": "markdown",
   "metadata": {},
   "source": [
    "Now, we have a PPTX file saved with all of our created content!. <br>"
   ]
  },
  {
   "cell_type": "markdown",
   "metadata": {},
   "source": [
    "Let's look at the screenshots of the .pptx we just created using JUST the assistants API and DALL·E-3. DALL-E-3 has not yet in the Assistants API a seed parameter, so the DALL·E-3 image and wordings will be slightly different from what you see when you run this notebook, due to the non-determinism of LLMs, but the outputs should be directionally the same."
   ]
  },
  {
   "cell_type": "markdown",
   "metadata": {},
   "source": [
    "The title slide:"
   ]
  },
  {
   "cell_type": "markdown",
   "metadata": {},
   "source": [
    "![The Image](imgs/imagen_dalle3.png)"
   ]
  },
  {
   "cell_type": "markdown",
   "metadata": {},
   "source": [
    "And the data slide:"
   ]
  },
  {
   "cell_type": "markdown",
   "metadata": {},
   "source": [
    "![The Image](imgs/grafica_financiera.png)"
   ]
  },
  {
   "cell_type": "markdown",
   "metadata": {},
   "source": [
    "## 5. Conclusion"
   ]
  },
  {
   "cell_type": "markdown",
   "metadata": {},
   "source": [
    "Woo! While these slides could use some formatting tweaks, we have made some great content using the Assistants API, GPT-4 and DALL·E-3. We were able to take a `.csv` file with financial data, and use our assisant to calculate profit by quarter across distribution channels, plot the results, identify insights and key takeaways from the visualization, and create a summarative title. And, given just a description of our company, MiEmpresaFinanciera, we used DALL·E-3 to make an awesome title image. <br><br>\n",
    "While we are still a ways away from entirely automating this process without a human in the loop, hopefully this notebook can make the slide creation process a bit easier for you. More importantly, this notebook can ideally give you a glimpse into the potential of the assistants API! We're excited to see what you build."
   ]
  },
  {
   "cell_type": "markdown",
   "metadata": {},
   "source": [
    "## 6. Extensions"
   ]
  },
  {
   "cell_type": "markdown",
   "metadata": {},
   "source": [
    "- When  DALL·E-3 is incorporated in the Assistants API, we will have the ability to request the generated title image within the thread. \n",
    "- GPT-4-Vision is not yet supported in the Assistants API, but could have been used to gather insights from the line plot image.\n",
    "- GPT-4-Vision was used to generate the `python-pptx` template included in this recipe, so a potential extension project could be demonstrating best practices around converting images to slide templates."
   ]
  },
  {
   "cell_type": "code",
   "execution_count": 58,
   "metadata": {},
   "outputs": [
    {
     "data": {
      "text/plain": [
       "AssistantDeleted(id='asst_VHenAVYAorsqJ9bgtXDh1603', deleted=True, object='assistant.deleted')"
      ]
     },
     "execution_count": 58,
     "metadata": {},
     "output_type": "execute_result"
    }
   ],
   "source": [
    "#client.beta.threads.delete(thread_id=)\n",
    "#client.beta.threads.runs.cancel(run_id=)\n",
    "#client.beta.assistants.delete(assistant_id=asst_VHenAVYAorsqJ9bgtXDh1603)"
   ]
  }
 ],
 "metadata": {
  "kernelspec": {
   "display_name": "Python 3 (ipykernel)",
   "language": "python",
   "name": "python3"
  },
  "language_info": {
   "codemirror_mode": {
    "name": "ipython",
    "version": 3
   },
   "file_extension": ".py",
   "mimetype": "text/x-python",
   "name": "python",
   "nbconvert_exporter": "python",
   "pygments_lexer": "ipython3",
   "version": "3.9.19"
  }
 },
 "nbformat": 4,
 "nbformat_minor": 4
}
