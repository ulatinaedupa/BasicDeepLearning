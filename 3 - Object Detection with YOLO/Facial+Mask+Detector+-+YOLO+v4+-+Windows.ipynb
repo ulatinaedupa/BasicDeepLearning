{
 "cells": [
  {
   "cell_type": "markdown",
   "metadata": {
    "colab_type": "text",
    "id": "FomalLunMPYp"
   },
   "source": [
    "# <font style=\"color:blue\">Mask / No Mask Detector - YOLO v4 - Windows</font>\n",
    "In this notebook we will train a custom object detector using YOLO v4,  Specially a face mask detector.\n",
    "\n",
    "Just for your consideration, we will be creating a folder named YOLO. In the parent directory is located this notebook, but all other files are inside the YOLO folder. \n",
    "\n",
    "On the other hand, we will be working with Visual Studio 2019.  So you will have to make this minor change in cmake to work. Remember to fix the architecture if you are not using Visual Studio 2019 (default in other is 32-bits, we will be working on 64-bits).\n",
    "\n",
    "Pre-requisites for this to work faster is to install CUDA Toolkit and cudnn libraries from the NVIDIA website.\n",
    "\n",
    "The results of this windows machine where over a NVIDIA GeForce 1660Ti.\n",
    "\n",
    "**NOTES**:\n",
    "- *POWERSHELL DOWNLOADING PRETRAINED WEIGHTS TO TEST THE COMPILATION OF DARKNET IS REALLY SLOW, YOU WILL PREFFER TO DO IT MANUALLY*\n",
    "- *THE OUTPUTS OF THE TRAINING ARE CLEARED, WE SHARED TO YOU THE RESULTS AND THE PRE-TRAINED WEIGHT, SEE THE README.MD*"
   ]
  },
  {
   "cell_type": "markdown",
   "metadata": {},
   "source": [
    "### <font color=\"blue\">0. Importing and Helper Functions </font>\n",
    "\n",
    "In this section we will make use of our helper functions that will ease the use over the entire notebook."
   ]
  },
  {
   "cell_type": "markdown",
   "metadata": {},
   "source": [
    "Just some imports:\n",
    "- os : path handling\n",
    "- cv2: image processing\n",
    "- IPython: for audio play\n",
    "- datetime: for getting the timestamp\n",
    "- random: for shuflying data\n",
    "- subprocess: for calling functions of the system"
   ]
  },
  {
   "cell_type": "code",
   "execution_count": null,
   "metadata": {},
   "outputs": [],
   "source": [
    "import random\n",
    "import os\n",
    "import subprocess\n",
    "import sys\n",
    "import cv2\n",
    "import matplotlib.pyplot as plt\n",
    "from IPython.display import Audio\n",
    "from datetime import datetime\n",
    "%matplotlib inline"
   ]
  },
  {
   "cell_type": "markdown",
   "metadata": {},
   "source": [
    "This is where a nice soundwave is located on the machine for just tell us when the training ended or when processing YOLO video when it ends to patch the video with the predictions.\n",
    "\n",
    "Trainings vary from 2 hrs to 30 hrs so is good if you are near to hear that it finished."
   ]
  },
  {
   "cell_type": "code",
   "execution_count": null,
   "metadata": {},
   "outputs": [],
   "source": [
    "sound_file = 'C:\\Windows\\Media\\Ring10.wav'"
   ]
  },
  {
   "cell_type": "markdown",
   "metadata": {},
   "source": [
    "The utility function below will help us to display the test image and its predicted labels, also will save the picture on the results folder"
   ]
  },
  {
   "cell_type": "code",
   "execution_count": null,
   "metadata": {
    "colab": {},
    "colab_type": "code",
    "id": "qLFSmTDSFeMc"
   },
   "outputs": [],
   "source": [
    "# Utility function to display the output\n",
    "\n",
    "def display_output(imagePath):\n",
    "    src = cv2.imread(imagePath,1)\n",
    "    output = cv2.imread(\"predictions.jpg\")\n",
    "    \n",
    "    plt.figure(figsize=[20,8])\n",
    "    plt.subplot(121)\n",
    "    plt.imshow(src[:,:,::-1])\n",
    "    plt.title(\"Original Image\")\n",
    "    plt.subplot(122)\n",
    "    plt.imshow(output[:,:,::-1])\n",
    "    plt.title(\"Predictions\")\n",
    "    \n",
    "    file_name = imagePath.split('\\\\')\n",
    "    file_name_parts = file_name[2].split('.')\n",
    "    name_only = file_name_parts[0]\n",
    "    now = datetime.now() # current date and time\n",
    "    build = now.strftime(\"%m-%d-%Y_%H_%M_%S\")\n",
    "    file_save_path = os.path.join(file_name[0], 'result', 'yolov4')\n",
    "    save_name = os.path.join(file_save_path, name_only + '-yolov4--' + build +'.png')\n",
    "    plt.savefig(save_name)    \n",
    "    \n",
    "    plt.show()    "
   ]
  },
  {
   "cell_type": "markdown",
   "metadata": {},
   "source": [
    "This class will help us to read a file and modify their lines in a easy way.  An example of usage is in comments below.  On the other hand you will use it on the entire document."
   ]
  },
  {
   "cell_type": "code",
   "execution_count": null,
   "metadata": {
    "scrolled": true
   },
   "outputs": [],
   "source": [
    "# Utility class to modify files\n",
    "\n",
    "# Get a file handler\n",
    "# mkf = FileMod(doc='.\\Makefile')  \n",
    "\n",
    "# Load the file and view the line numbers\n",
    "# mkf.load(doc='.\\Makefile')\n",
    "\n",
    "# make a dictionary to modify the file\n",
    "# mkf_dict = dict({\n",
    "#                  0:'GPU=1', \n",
    "#                  2: 'CUDNN_HALF=1'\n",
    "#                })\n",
    "# mkf.mod(doc='.\\Makefile', mod_lines=mkf_dict)\n",
    "\n",
    "# view the print out without line numbers (optional)\n",
    "# mkf.view()   # view 20 lines\n",
    "# ... or ...\n",
    "# mkf.view(10) # view 10 lines\n",
    "\n",
    "class FileMod():\n",
    "    def __init__(self, doc=None, *args, **kwargs):\n",
    "        super(FileMod, self).__init__()\n",
    "        \n",
    "        self.mode  = 'r'  # default = read\n",
    "        self.file  = doc # path of file\n",
    "        self.dict  = {}   # dict to modify\n",
    "        self.lines = []   #lines of file\n",
    "\n",
    "    def load(self, doc=None):\n",
    "        try:\n",
    "            if doc==None:\n",
    "                doc=self.file\n",
    "            with open(doc, self.mode) as file:\n",
    "                # read a list of lines into data\n",
    "                data = file.readlines()\n",
    "            self.lines = data\n",
    "            for i, string in enumerate(self.lines):\n",
    "                print(f\"{i}:{string}\")\n",
    "        except Exception as e:\n",
    "            print(e)\n",
    "\n",
    "    def mod(self, mod_lines=None):\n",
    "        # and write everything back\n",
    "        if mod_lines == None:\n",
    "            return\n",
    "        doc = self.file\n",
    "        self.mode = 'w'\n",
    "        for lines, data in mod_lines.items():\n",
    "            string = data + '\\n'\n",
    "            self.lines[lines] = string\n",
    "            print(f\"mod {lines} as {string}\")\n",
    "        with open(doc, 'w') as file:\n",
    "            file.writelines(self.lines)\n",
    "        self.mode = 'r'\n",
    "\n",
    "    def view(self, lines=None):\n",
    "        if lines == None:\n",
    "            lines = 20\n",
    "        doc = self.file\n",
    "        with open(doc, self.mode) as file:\n",
    "            # read a list of lines into data\n",
    "            data = file.readlines()\n",
    "        for line_num, line in enumerate(data):\n",
    "            if line_num > lines - 1:\n",
    "                break\n",
    "            print(f\"{line}\\n\")"
   ]
  },
  {
   "cell_type": "markdown",
   "metadata": {},
   "source": [
    "In each step I am doing a dummy *ls* for seein in which folder we are"
   ]
  },
  {
   "cell_type": "code",
   "execution_count": null,
   "metadata": {
    "scrolled": false
   },
   "outputs": [],
   "source": [
    "%ls"
   ]
  },
  {
   "cell_type": "markdown",
   "metadata": {},
   "source": [
    "We will then create a folder named *YOLO* and will start working from here"
   ]
  },
  {
   "cell_type": "code",
   "execution_count": null,
   "metadata": {},
   "outputs": [],
   "source": [
    "%mkdir YOLO\n",
    "%cd YOLO"
   ]
  },
  {
   "cell_type": "markdown",
   "metadata": {
    "colab_type": "text",
    "id": "hY4n3LaTPAeh"
   },
   "source": [
    "### <font color=\"blue\">1.  Download Alexey AB YOLO repository to our google drive *yolov4* folder</font>\n",
    "We now will download the well maintained repository of a YOLO expert, because Joseph Redmon will not continue working on YOLO and because this repo work very well on Windows."
   ]
  },
  {
   "cell_type": "code",
   "execution_count": null,
   "metadata": {
    "colab": {
     "base_uri": "https://localhost:8080/",
     "height": 153
    },
    "colab_type": "code",
    "executionInfo": {
     "elapsed": 35335,
     "status": "ok",
     "timestamp": 1591401817040,
     "user": {
      "displayName": "Rangel Alvarado",
      "photoUrl": "https://lh3.googleusercontent.com/a-/AOh14GgrnIdLDrC0TrgBX38dBKASDPlPC_cVM2-325_j=s64",
      "userId": "11539925403577826856"
     },
     "user_tz": 300
    },
    "id": "h6YQz3eIOzVG",
    "outputId": "31d3ce46-9ec5-45ed-f230-75f5b4951336",
    "scrolled": true
   },
   "outputs": [],
   "source": [
    "!git clone https://github.com/AlexeyAB/darknet.git"
   ]
  },
  {
   "cell_type": "markdown",
   "metadata": {
    "colab_type": "text",
    "id": "9OaFsPQ6SZQU"
   },
   "source": [
    "### <font color=\"blue\">2.  Compile Darknet</font>\n",
    "Next, some strings on the Makefile needs to be modified before we build darknet from the source."
   ]
  },
  {
   "cell_type": "code",
   "execution_count": null,
   "metadata": {
    "scrolled": false
   },
   "outputs": [],
   "source": [
    "%ls"
   ]
  },
  {
   "cell_type": "code",
   "execution_count": null,
   "metadata": {},
   "outputs": [],
   "source": [
    "%cd darknet\\build"
   ]
  },
  {
   "cell_type": "code",
   "execution_count": null,
   "metadata": {},
   "outputs": [],
   "source": [
    "mkf = FileMod('..\\Makefile')\n",
    "mkf.load()"
   ]
  },
  {
   "cell_type": "code",
   "execution_count": null,
   "metadata": {},
   "outputs": [],
   "source": [
    "mkfdict = dict({\n",
    "                0:'GPU=1',\n",
    "                1:'CUDNN=1',\n",
    "                3:'OPENCV=1',\n",
    "                4:'AVX=1'\n",
    "              })\n",
    "mkf.mod(mod_lines=mkfdict)"
   ]
  },
  {
   "cell_type": "code",
   "execution_count": null,
   "metadata": {},
   "outputs": [],
   "source": [
    "mkf.view()"
   ]
  },
  {
   "cell_type": "code",
   "execution_count": null,
   "metadata": {},
   "outputs": [],
   "source": [
    "%ls"
   ]
  },
  {
   "cell_type": "code",
   "execution_count": null,
   "metadata": {
    "colab": {
     "base_uri": "https://localhost:8080/",
     "height": 34
    },
    "colab_type": "code",
    "executionInfo": {
     "elapsed": 130508,
     "status": "ok",
     "timestamp": 1591401923096,
     "user": {
      "displayName": "Rangel Alvarado",
      "photoUrl": "https://lh3.googleusercontent.com/a-/AOh14GgrnIdLDrC0TrgBX38dBKASDPlPC_cVM2-325_j=s64",
      "userId": "11539925403577826856"
     },
     "user_tz": 300
    },
    "id": "v6JW5I2BSo6v",
    "outputId": "361fb0ea-2474-431b-a3b1-24835c523d14",
    "scrolled": true
   },
   "outputs": [],
   "source": [
    "print(\"[INFO] - Building Darknet with cmake\")\n",
    "!cmake -G \"Visual Studio 16 2019\" .."
   ]
  },
  {
   "cell_type": "code",
   "execution_count": null,
   "metadata": {},
   "outputs": [],
   "source": [
    "print(\"[INFO] - Building Darknet Release Mode\")\n",
    "!cmake --build . --target ALL_BUILD\n",
    "print(\"[INFO] - End of building darknet!\")"
   ]
  },
  {
   "cell_type": "code",
   "execution_count": null,
   "metadata": {},
   "outputs": [],
   "source": [
    "print(\"[INFO] - Final Steps\")\n",
    "!cmake --build . --target INSTALL\n",
    "print(\"[INFO] - You are done for start training or detecting!\")"
   ]
  },
  {
   "cell_type": "markdown",
   "metadata": {},
   "source": [
    "### <font color=\"blue\">3. Move DLLs To The Root Folder of Darknet</font>\n",
    "\n",
    "Darknet will need phtreadVC2.dll to load correctly so we will be putting it on the root of the darknet folder for simplifying things."
   ]
  },
  {
   "cell_type": "code",
   "execution_count": null,
   "metadata": {
    "scrolled": true
   },
   "outputs": [],
   "source": [
    "%cd ..\\"
   ]
  },
  {
   "cell_type": "code",
   "execution_count": null,
   "metadata": {},
   "outputs": [],
   "source": [
    "%ls"
   ]
  },
  {
   "cell_type": "code",
   "execution_count": null,
   "metadata": {},
   "outputs": [],
   "source": [
    "!copy 3rdparty\\pthreads\\bin\\* ."
   ]
  },
  {
   "cell_type": "markdown",
   "metadata": {
    "colab_type": "text",
    "id": "vGt0Mlik2uOM"
   },
   "source": [
    "### <font color=\"blue\">4. Cloning the Pre-Trained Weights</font>\n",
    "We will be doing a compilation test with the pre-trained weights of YOLO v4 (just this time)."
   ]
  },
  {
   "cell_type": "code",
   "execution_count": null,
   "metadata": {},
   "outputs": [],
   "source": [
    "%ls"
   ]
  },
  {
   "cell_type": "code",
   "execution_count": null,
   "metadata": {
    "colab": {
     "base_uri": "https://localhost:8080/",
     "height": 377
    },
    "colab_type": "code",
    "executionInfo": {
     "elapsed": 142975,
     "status": "ok",
     "timestamp": 1591402066242,
     "user": {
      "displayName": "Rangel Alvarado",
      "photoUrl": "https://lh3.googleusercontent.com/a-/AOh14GgrnIdLDrC0TrgBX38dBKASDPlPC_cVM2-325_j=s64",
      "userId": "11539925403577826856"
     },
     "user_tz": 300
    },
    "id": "0q662XkF3BfP",
    "outputId": "d1dbfa3e-46e7-4963-c08b-a6f27c132b20"
   },
   "outputs": [],
   "source": [
    "# We will download the pre-trained weights of yolov4 just this time to test the darknet compilation\n",
    "# This will take a lot of time, you preferibly will want to do it manually\n",
    "!powershell -c \"(New-Object System.Net.WebClient).DownloadFile('https://github.com/AlexeyAB/darknet/releases/download/darknet_yolo_v3_optimal/yolov4.weights', 'yolov4.weights')\"\n",
    "Audio(sound_file, autoplay=True)"
   ]
  },
  {
   "cell_type": "markdown",
   "metadata": {},
   "source": [
    "### <font color=\"blue\">5. Test The Compilation</font>\n",
    "\n",
    "If everything is OK, in predictions.jpg you will get the image with their bounding boxes and classifications of the classes detected by yolo."
   ]
  },
  {
   "cell_type": "code",
   "execution_count": null,
   "metadata": {},
   "outputs": [],
   "source": [
    "!darknet detect cfg\\yolov4.cfg yolov4.weights data\\dog.jpg -dont_show > NUL"
   ]
  },
  {
   "cell_type": "markdown",
   "metadata": {
    "colab_type": "text",
    "id": "hXnzCOgpT9hc"
   },
   "source": [
    "### <font color=\"blue\">6.  Download the *Mask / No Mask Dataset*</font>\n",
    "Download the curated dataset of face mask and not facemask to our dataset folder, but first lets create a dataset folder.\n",
    "\n",
    "Usually i like to be very organized."
   ]
  },
  {
   "cell_type": "code",
   "execution_count": null,
   "metadata": {
    "colab": {
     "base_uri": "https://localhost:8080/",
     "height": 51
    },
    "colab_type": "code",
    "executionInfo": {
     "elapsed": 15654,
     "status": "ok",
     "timestamp": 1591401938802,
     "user": {
      "displayName": "Rangel Alvarado",
      "photoUrl": "https://lh3.googleusercontent.com/a-/AOh14GgrnIdLDrC0TrgBX38dBKASDPlPC_cVM2-325_j=s64",
      "userId": "11539925403577826856"
     },
     "user_tz": 300
    },
    "id": "v_tq7-MxUUer",
    "outputId": "134c4ba8-7dcb-4473-86d1-377492b8599c",
    "scrolled": false
   },
   "outputs": [],
   "source": [
    "%ls"
   ]
  },
  {
   "cell_type": "code",
   "execution_count": null,
   "metadata": {},
   "outputs": [],
   "source": [
    "%cd ../"
   ]
  },
  {
   "cell_type": "markdown",
   "metadata": {},
   "source": [
    "Next we will download the dataset to this root folder *YOLO*, decompress it on another folder called *dataset* and finally erase the zip file."
   ]
  },
  {
   "cell_type": "code",
   "execution_count": null,
   "metadata": {},
   "outputs": [],
   "source": [
    "!powershell -c \"(New-Object System.Net.WebClient).DownloadFile('https://www.dropbox.com/s/6gewe947ake1g95/kaggle_and_no-mask_dataset.zip?dl=1', '.\\kaggle_and_no-mask_dataset.zip')\"\n",
    "!powershell -c \"expand-archive -path 'kaggle_and_no-mask_dataset.zip' -destinationpath 'dataset'\"\n",
    "!powershell -c \"remove-item -path 'kaggle_and_no-mask_dataset.zip'\""
   ]
  },
  {
   "cell_type": "markdown",
   "metadata": {
    "colab_type": "text",
    "id": "kbVA4YIxZjac"
   },
   "source": [
    "### <font color=\"blue\">7.  Prepare the Train and Test Files</font>\n",
    "This code provided creates two files, one for the training images and other for the test images.\n",
    "\n",
    "The dataset is divided in:\n",
    "- 80% training set \n",
    "- 20% test set"
   ]
  },
  {
   "cell_type": "code",
   "execution_count": null,
   "metadata": {},
   "outputs": [],
   "source": [
    "%ls"
   ]
  },
  {
   "cell_type": "code",
   "execution_count": null,
   "metadata": {
    "colab": {},
    "colab_type": "code",
    "id": "tMqbf915Zi14"
   },
   "outputs": [],
   "source": [
    "image_dir = \"dataset\"\n",
    "f_val = open(\"DS_test.txt\", 'w')\n",
    "f_train = open(\"DS_train.txt\", 'w')\n",
    "\n",
    "path, dirs, files = next(os.walk(image_dir))\n",
    "data_size = len(files)\n",
    "\n",
    "ind = 0\n",
    "data_test_size = int(0.2 * data_size)\n",
    "test_array = random.sample(range(data_size), k=data_test_size)\n",
    "\n",
    "for f in os.listdir(image_dir):\n",
    "    if(f.split(\".\")[-1] == \"jpg\"):\n",
    "        ind += 1\n",
    "        \n",
    "        if ind in test_array:\n",
    "            f_val.write(image_dir+'/'+f+'\\n')\n",
    "        else:\n",
    "            f_train.write(image_dir+'/'+f+'\\n')\n",
    "\n",
    "f_train.close()\n",
    "f_val.close()"
   ]
  },
  {
   "cell_type": "markdown",
   "metadata": {
    "colab_type": "text",
    "id": "jLrGjXfgftkD"
   },
   "source": [
    "### <font color=\"blue\">8.  Prepare and Upload the configuration files</font>\n",
    "\n",
    "For train and use yolo we need to prepare the neccesary files, finally we will upload to our yolov4 folder.\n",
    "\n",
    "#### <font color=\"blue\">8.1. Data Setup</font>\n",
    "In the file **`yolov4-mask_nomask-setup.data`**(uploaded to github and included here), we provided the correct specification of our paths.\n",
    "\n",
    "Below is the content of this file:\n",
    "```\n",
    "classes = 2\n",
    "train  = DS_train.txt\n",
    "valid  = DS_test.txt\n",
    "names = FacialMaskDetector/yolov4/config/yolov4.names\n",
    "backup = FacialMaskDetector/yolov4/backup/\n",
    "```\n",
    "\n",
    "#### <font color=\"blue\">8.2. Training Config File</font>\n",
    "We also need to provide the  **`yolov4-mask_nomask-train.cfg`**. Based on the default file of darknet folder cfg/yolov4.cfg\n",
    "\n",
    "#### <font color=\"blue\">8.2.1 Batch hyper-parameter in YOLOv4</font>\n",
    "We maintain the batch size and the subdivision batch as the default of the file.  That's 20 images to feed in two subgroups.\n",
    "\n",
    "For the *test configuration file* we will set these params to 1 because we will feed an image.\n",
    "```\n",
    "batch=20\n",
    "subdivisions=10\n",
    "```\n",
    "#### <font color=\"blue\">8.2.2 Subdivisions configuration parameter in YOLOv4</font>\n",
    "For feeding the GPU correcly we slow the training, this action will ensure our machine will be able to train the detector but you could play with this parameter.\n",
    "\n",
    "In testing mode this will be equal to 1.\n",
    "\n",
    "### <font color=\"blue\">8.2.3 Width, Height, Channels</font>\n",
    "A higher resolution the detection will be better but you will sacrifice the time of training.\n",
    "```\n",
    "width=352\n",
    "height=352\n",
    "channels=3\n",
    "```\n",
    "### <font color=\"blue\">8.2.4 Momentum and Decay</font>\n",
    "These hyperparameters we will maintain as is.\n",
    "```\n",
    "momentum=0.949\n",
    "decay=0.0005\n",
    "```\n",
    "\n",
    "### <font color=\"blue\">8.2.5 Learning Rate, Steps, Scales, Burn In (warm-up)</font>\n",
    "Again, we will be maintaining these hyperparamters as default.  The learning rate will be changed over the 800th iteration.\n",
    "\n",
    "```\n",
    "learning_rate=0.0013\n",
    "policy=steps\n",
    "steps=6000\n",
    "scales=.1,.1\n",
    "burn_in=600\n",
    "```\n",
    "\n",
    "\n",
    "### <font color=\"blue\">8.2.6 Data augmentation</font>\n",
    "For various lighting conditions and different color ranges (over other color spaces).  Sometimes its good to change the angle because a few objects could be rotated.  A facemask in this case we will maintain at 0 degrees but could be augmented to 3° or something low because we are detecting people.\n",
    "```\n",
    "angle=0\n",
    "saturation = 1.5\n",
    "exposure = 1.5\n",
    "hue=.1\n",
    "```\n",
    "\n",
    "#### <font color=\"blue\">8.2.7 Number of iterations</font>\n",
    "Process 2000*n_classes iterations run as recommended.  But we will keep in a higher number to see the performance.\n",
    "```\n",
    "max_batches=6000\n",
    "```\n",
    "\n",
    "#### <font color=\"blue\">8.2.8 Change filters parameter in conv layers [Important for multiple objects]</font>\n",
    "Fini in the file the conv. layer before the yolo layer with the equation:\n",
    "\n",
    "**`filters=( classes + 5 ) * 3`**\n",
    "\n",
    "Our yolo classes are 2, so filters = 21.\n",
    "\n",
    "### <font color=\"blue\">8.3. yolov4.names file </font>\n",
    "Specify the classes as...\n",
    "- Mask (Class 0), \n",
    "- No-Mask (Class 1) \n",
    "\n",
    "... class labels.\n",
    "\n",
    "### <font color=\"blue\">8.4. Improving The Network </font>\n",
    "We observed that on the AlexeyAB repo recommended change some hyperparameters for improving the training accuracy.  These parameters modified are:\n",
    "- stride=4, near line 890\n",
    "- layers=23, near line 894\n",
    "- added max=200 or above at the end of the file"
   ]
  },
  {
   "cell_type": "markdown",
   "metadata": {
    "colab_type": "text",
    "id": "1ZDW77yt0BlX"
   },
   "source": [
    "### <font color=\"blue\">9. Cloning the configuration Repository</font>\n",
    "This repository is prepared with the desired configuration for yolov3 and yolov4.\n",
    "\n",
    "In this case we will be using yolo v4.  The structure of the folder is as follows:\n",
    "\n",
    "```\n",
    "/FacialMaskDetector\n",
    "├── results\n",
    "│   ├── yolov3\n",
    "│   │       ├── README.md\n",
    "│   ├── yolov4\n",
    "│           ├── README.md\n",
    "├── test\n",
    "│   ├── test-image1.jpg\n",
    "│   ├── test-image2.jpg\n",
    "│   ├── test-image3.jpg\n",
    "│   ├── test-image4.jpg\n",
    "│   ├── test-video1.jpg\n",
    "│   ├── test-video2.jpg\n",
    "├── yolov3\n",
    "│       ├── backup\n",
    "│       │   ├── README.md\n",
    "│       ├── config\n",
    "│       │   ├── yolov3-mask_nomask-setup.data\n",
    "│       │   ├── yolov3-mask_nomask-test.cfg\n",
    "│       │   ├── yolov3-mask_nomask-train.cfg\n",
    "│       │   ├── yolov3.names\n",
    "│       ├── weights\n",
    "│           ├── README.md\n",
    "├── yolov4\n",
    "│       ├── backup\n",
    "│       │   ├── README.md\n",
    "│       ├── config\n",
    "│       │   ├── yolov4-mask_nomask-setup.data\n",
    "│       │   ├── yolov4-mask_nomask-test.cfg\n",
    "│       │   ├── yolov4-mask_nomask-train.cfg\n",
    "│       │   ├── yolov4.names\n",
    "│       ├── weights\n",
    "│           ├── README.md\n",
    "├── README.md\n",
    "```\n",
    "\n",
    "This will ease for us the way of training and inference."
   ]
  },
  {
   "cell_type": "code",
   "execution_count": null,
   "metadata": {},
   "outputs": [],
   "source": [
    "%ls"
   ]
  },
  {
   "cell_type": "code",
   "execution_count": null,
   "metadata": {
    "colab": {
     "base_uri": "https://localhost:8080/",
     "height": 119
    },
    "colab_type": "code",
    "executionInfo": {
     "elapsed": 118337,
     "status": "ok",
     "timestamp": 1591402041573,
     "user": {
      "displayName": "Rangel Alvarado",
      "photoUrl": "https://lh3.googleusercontent.com/a-/AOh14GgrnIdLDrC0TrgBX38dBKASDPlPC_cVM2-325_j=s64",
      "userId": "11539925403577826856"
     },
     "user_tz": 300
    },
    "id": "8xjRp_7shXlH",
    "outputId": "94c160f9-e717-41fa-e595-c714c61fdc27"
   },
   "outputs": [],
   "source": [
    "!git clone https://github.com/issaiass/FacialMaskDetector.git"
   ]
  },
  {
   "cell_type": "markdown",
   "metadata": {},
   "source": [
    "We need to download the initial weights"
   ]
  },
  {
   "cell_type": "code",
   "execution_count": null,
   "metadata": {},
   "outputs": [],
   "source": [
    "%cd FacialMaskDetector\\yolov4\\weights"
   ]
  },
  {
   "cell_type": "code",
   "execution_count": null,
   "metadata": {},
   "outputs": [],
   "source": [
    "!powershell -c \"(New-Object System.Net.WebClient).DownloadFile('\"https://github.com/AlexeyAB/darknet/releases/download/darknet_yolo_v3_optimal/yolov4.conv.137\"', 'yolov4.conv.137')\"\n",
    "Audio(sound_file, autoplay=True)"
   ]
  },
  {
   "cell_type": "code",
   "execution_count": null,
   "metadata": {},
   "outputs": [],
   "source": [
    "%cd ..\\..\\..\\"
   ]
  },
  {
   "cell_type": "markdown",
   "metadata": {
    "colab_type": "text",
    "id": "K-8dgvHU3ueH"
   },
   "source": [
    "### <font color=\"blue\">10. Review Hyperparameters</font>\n",
    "\n",
    "Here we will set the hyperparamters for training the YOLO v4 model.\n",
    "Below python variables to be the shortcut for fast insertion on the code."
   ]
  },
  {
   "cell_type": "code",
   "execution_count": null,
   "metadata": {},
   "outputs": [],
   "source": [
    "yolo_setup     = 'FacialMaskDetector\\\\yolov4\\\\config\\\\yolov4-mask_nomask-setup.data'\n",
    "yolo_train     = 'FacialMaskDetector\\\\yolov4\\\\config\\\\yolov4-mask_nomask-train.cfg'\n",
    "yolo_test      = 'FacialMaskDetector\\\\yolov4\\\\config\\\\yolov4-mask_nomask-test.cfg' \n",
    "yolo_weights      = 'FacialMaskDetector\\\\yolov4\\\\weights\\\\yolov4.conv.137'\n",
    "yolo_best_weights = 'FacialMaskDetector\\\\yolov4\\\\backup\\\\yolov4-mask_nomask-train_best.weights'\n"
   ]
  },
  {
   "cell_type": "code",
   "execution_count": null,
   "metadata": {
    "scrolled": false
   },
   "outputs": [],
   "source": [
    "%ls"
   ]
  },
  {
   "cell_type": "code",
   "execution_count": null,
   "metadata": {},
   "outputs": [],
   "source": [
    "CfgHandler = FileMod(yolo_train)\n",
    "CfgHandler.load()"
   ]
  },
  {
   "cell_type": "markdown",
   "metadata": {},
   "source": [
    "Enable if you want to modify something in the file.  If you didn't know what linew we changed, but its obvious, you could check at: \n",
    "- https://www.diffnow.com/\n",
    "- https://text-compare.com/Enable if you want to modify something in the file.  If you didn't know what linew we changed, but its obvious, you could check at https://www.diffnow.com/"
   ]
  },
  {
   "cell_type": "code",
   "execution_count": null,
   "metadata": {
    "scrolled": false
   },
   "outputs": [],
   "source": [
    "#                                            #  DEFAULT\n",
    "#config = dict({ 1:'batch=20',                # 64\n",
    "#                2:'subdivisions=10',         # 8\n",
    "#                6:'width=320',               # 512\n",
    "#                7:'height=320',              # 512\n",
    "#               19:'learning_rate=0.0013',    # 0.0013\n",
    "#               17:'burn_in=600',             # 1000\n",
    "#               18:'max_batches=6000',        # 500500\n",
    "#               20:'steps=4800,5400',         # 400000,450000\n",
    "#               21:'scales=.1,.1'             # .1,.1\n",
    "#              890:'stride=4'                 # 2\n",
    "#              894:'layers=23'                # 54\n",
    "#              960:'filters=21'               # 255\n",
    "#              967:'classes=2'                # 80\n",
    "#              988:'stride=4'                 # 2\n",
    "#             1048:'filter=21'                # 255\n",
    "#             1055:'classes=2'                # 80\n",
    "#             1136:'filters=21'               # 255\n",
    "#             1143:'classe=2'                 # 80\n",
    "#             1157:'max=200'                  # <just leav it in blank with ''>\n",
    "#             })\n",
    "\n",
    "#CfgHandler.mod('FacialMaskDetector/yolov4/config/yolov4-mask_nomask-train.cfg', config)"
   ]
  },
  {
   "cell_type": "code",
   "execution_count": null,
   "metadata": {
    "scrolled": true
   },
   "outputs": [],
   "source": [
    "CfgHandler.view(22)"
   ]
  },
  {
   "cell_type": "markdown",
   "metadata": {
    "colab_type": "text",
    "id": "XeCpPyeiz5Bt"
   },
   "source": [
    "### <font color=\"blue\">11. Start Training </font>\n",
    "We need to pass the training files for the darknet framework to start the process.\n",
    "\n",
    "Remember!, we need to specify the complete paths of these files that we talked before:\n",
    "1. setup file, \n",
    "1. config file, \n",
    "1. convolutional weights file \n",
    "\n",
    "There are a few flags like **`dont_show`** which wont display the graphs and **`map`** - for the mAP calculation over the DS_test.txt file (20% of our data)."
   ]
  },
  {
   "cell_type": "code",
   "execution_count": null,
   "metadata": {
    "colab": {
     "base_uri": "https://localhost:8080/",
     "height": 34
    },
    "colab_type": "code",
    "executionInfo": {
     "elapsed": 1946,
     "status": "ok",
     "timestamp": 1591402709592,
     "user": {
      "displayName": "Rangel Alvarado",
      "photoUrl": "https://lh3.googleusercontent.com/a-/AOh14GgrnIdLDrC0TrgBX38dBKASDPlPC_cVM2-325_j=s64",
      "userId": "11539925403577826856"
     },
     "user_tz": 300
    },
    "id": "5R2PbMvqHA-o",
    "outputId": "a1d94c64-df34-4516-80fd-3524723b900c"
   },
   "outputs": [],
   "source": [
    "%ls"
   ]
  },
  {
   "cell_type": "markdown",
   "metadata": {},
   "source": [
    "Below the paths to insert as a variable in the command line as arguments, and to not repeat in the entire notebook"
   ]
  },
  {
   "cell_type": "markdown",
   "metadata": {},
   "source": [
    "We added an audio sound file, if you are near you will hear a ring tone.\n",
    "\n",
    "This is the same as:\n",
    "\n",
    "*!darknet\\darknet detector train FacialMaskDetector\\yolov4\\config\\yolov4-mask_nomask-setup.data FacialMaskDetector\\yolov4\\config\\yolov4-mask_nomask-train.cfg FacialMaskDetector\\yolov4\\weights\\yolov4.conv.137 -dont_show -map 2 > train_log.txt*"
   ]
  },
  {
   "cell_type": "code",
   "execution_count": null,
   "metadata": {
    "colab": {
     "base_uri": "https://localhost:8080/",
     "height": 1000
    },
    "colab_type": "code",
    "executionInfo": {
     "elapsed": 21950875,
     "status": "ok",
     "timestamp": 1591424659111,
     "user": {
      "displayName": "Rangel Alvarado",
      "photoUrl": "https://lh3.googleusercontent.com/a-/AOh14GgrnIdLDrC0TrgBX38dBKASDPlPC_cVM2-325_j=s64",
      "userId": "11539925403577826856"
     },
     "user_tz": 300
    },
    "id": "zK145Zz00pho",
    "outputId": "ceba2823-323e-424c-ea57-476ff7b67574"
   },
   "outputs": [],
   "source": [
    "# Train!\n",
    "!darknet\\darknet detector train $yolo_setup $yolo_train $yolo_weights -dont_show -map 2 > train_log.txt\n",
    "Audio(sound_file, autoplay=True)"
   ]
  },
  {
   "cell_type": "markdown",
   "metadata": {
    "colab_type": "text",
    "id": "y0nACB5u96Qy"
   },
   "source": [
    "Our results:\n",
    "- class_id = 0, name = Mask, ap = 92.92%   \t (TP = 490, FP = 56) \n",
    "- class_id = 1, name = No-Mask, ap = 75.62%   \t (TP = 725, FP = 92) \n",
    "\n",
    "- for conf_thresh = 0.25, precision = 0.89, recall = 0.75, F1-score = 0.82 \n",
    "- for conf_thresh = 0.25, TP = 1215, FP = 148, FN = 396, average IoU = 70.59 % \n",
    "\n",
    "- IoU threshold = 50 %, used Area-Under-Curve for each unique Recall \n",
    "- mean average precision (mAP@0.50) = 0.842709, or 84.27 % \n",
    " \n",
    "\n",
    "And the training time was about less than 8 hours depending of the max_batches and width x height of the configuration in the yolo training file."
   ]
  },
  {
   "cell_type": "markdown",
   "metadata": {
    "colab_type": "text",
    "id": "0dNCxx904F24"
   },
   "source": [
    "### <font color=\"blue\">12. Make Inferences</font>\n",
    "\n",
    "First we did a first step that is to copy the data folder of darknet to the root, because inside are the labels to graph the letters and numbers.  If this step is omited you will see a black box and no inference name.\n",
    "\n",
    "Next we will have a piece of code for displaying and finally are the inferences of images and pre-recorded video.\n",
    "\n",
    "The pre-recorded video could be downloaded over the root folder, in this case, our YOLO folder (created on Google Drive) "
   ]
  },
  {
   "cell_type": "code",
   "execution_count": null,
   "metadata": {},
   "outputs": [],
   "source": [
    "%ls"
   ]
  },
  {
   "cell_type": "code",
   "execution_count": null,
   "metadata": {},
   "outputs": [],
   "source": [
    "!mkdir data\n",
    "!Xcopy /E /I darknet\\data\\* data"
   ]
  },
  {
   "cell_type": "markdown",
   "metadata": {
    "colab_type": "text",
    "id": "4CBm0hURLVXm"
   },
   "source": [
    "Below we will list the test files"
   ]
  },
  {
   "cell_type": "code",
   "execution_count": null,
   "metadata": {},
   "outputs": [],
   "source": [
    "test_files = [os.path.join('FacialMaskDetector\\\\test', v) for v in os.listdir('FacialMaskDetector\\\\test')]"
   ]
  },
  {
   "cell_type": "markdown",
   "metadata": {
    "colab_type": "text",
    "id": "wIv4_my88HAx"
   },
   "source": [
    "#### <font color=\"blue\">12.1 Scenario 1</font>\n",
    "\n",
    "Testing only with one man and with facemask."
   ]
  },
  {
   "cell_type": "code",
   "execution_count": null,
   "metadata": {},
   "outputs": [],
   "source": [
    "!darknet\\darknet detector test $yolo_setup $yolo_test $yolo_best_weights FacialMaskDetector\\test\\test-image1.jpg -thresh .6 2 > NUL"
   ]
  },
  {
   "cell_type": "code",
   "execution_count": null,
   "metadata": {},
   "outputs": [],
   "source": [
    "display_output(test_files[0])"
   ]
  },
  {
   "cell_type": "markdown",
   "metadata": {
    "colab_type": "text",
    "id": "Z5nqfcco8W2w"
   },
   "source": [
    "#### <font color=\"blue\">12.2 Scenario 2</font>\n",
    "\n",
    "Testing with different angles of people wearing mask and other not wearing."
   ]
  },
  {
   "cell_type": "code",
   "execution_count": null,
   "metadata": {
    "colab": {
     "base_uri": "https://localhost:8080/",
     "height": 484
    },
    "colab_type": "code",
    "executionInfo": {
     "elapsed": 13659,
     "status": "ok",
     "timestamp": 1591426397186,
     "user": {
      "displayName": "Rangel Alvarado",
      "photoUrl": "https://lh3.googleusercontent.com/a-/AOh14GgrnIdLDrC0TrgBX38dBKASDPlPC_cVM2-325_j=s64",
      "userId": "11539925403577826856"
     },
     "user_tz": 300
    },
    "id": "Wgvua3eJgtpn",
    "outputId": "fa52184d-6c95-417d-d449-e58aa275bfb4"
   },
   "outputs": [],
   "source": [
    "!darknet\\darknet detector test $yolo_setup $yolo_test $yolo_best_weights FacialMaskDetector\\test\\test-image2.jpg -thresh .6 2 > NUL"
   ]
  },
  {
   "cell_type": "code",
   "execution_count": null,
   "metadata": {
    "scrolled": true
   },
   "outputs": [],
   "source": [
    "display_output(test_files[1])"
   ]
  },
  {
   "cell_type": "markdown",
   "metadata": {
    "colab_type": "text",
    "id": "fFkEby8I8jr3"
   },
   "source": [
    "#### <font color=\"blue\">12.3 Scenario 3</font>\n",
    "\n",
    "Testing with a crowd with and without facemask and different scales and variations"
   ]
  },
  {
   "cell_type": "code",
   "execution_count": null,
   "metadata": {
    "colab": {
     "base_uri": "https://localhost:8080/",
     "height": 679
    },
    "colab_type": "code",
    "executionInfo": {
     "elapsed": 21960396,
     "status": "ok",
     "timestamp": 1591424718897,
     "user": {
      "displayName": "Rangel Alvarado",
      "photoUrl": "https://lh3.googleusercontent.com/a-/AOh14GgrnIdLDrC0TrgBX38dBKASDPlPC_cVM2-325_j=s64",
      "userId": "11539925403577826856"
     },
     "user_tz": 300
    },
    "id": "vCbtSEtAgu6E",
    "outputId": "3bb14371-ec93-46ac-da24-33cb00d715c9"
   },
   "outputs": [],
   "source": [
    "!darknet\\darknet detector test $yolo_setup $yolo_test $yolo_best_weights FacialMaskDetector\\test\\test-image3.jpg -thresh .6 2 > NUL"
   ]
  },
  {
   "cell_type": "code",
   "execution_count": null,
   "metadata": {},
   "outputs": [],
   "source": [
    "display_output(test_files[2])"
   ]
  },
  {
   "cell_type": "markdown",
   "metadata": {
    "colab_type": "text",
    "id": "QHxgZ_su8zn4"
   },
   "source": [
    "#### <font color=\"blue\">12.4 Scenario 4</font>\n",
    "\n",
    "Testing with several people walking trough the plaza."
   ]
  },
  {
   "cell_type": "code",
   "execution_count": null,
   "metadata": {
    "colab": {
     "base_uri": "https://localhost:8080/",
     "height": 573
    },
    "colab_type": "code",
    "executionInfo": {
     "elapsed": 14481,
     "status": "ok",
     "timestamp": 1591425557805,
     "user": {
      "displayName": "Rangel Alvarado",
      "photoUrl": "https://lh3.googleusercontent.com/a-/AOh14GgrnIdLDrC0TrgBX38dBKASDPlPC_cVM2-325_j=s64",
      "userId": "11539925403577826856"
     },
     "user_tz": 300
    },
    "id": "Iu9qUtq8hKhj",
    "outputId": "3c5a0672-3f94-4f75-d0fa-48b5bf9accf5"
   },
   "outputs": [],
   "source": [
    "!darknet\\darknet detector test $yolo_setup $yolo_test $yolo_best_weights FacialMaskDetector\\test\\test-image4.jpg -thresh .6 2 > NUL"
   ]
  },
  {
   "cell_type": "code",
   "execution_count": null,
   "metadata": {},
   "outputs": [],
   "source": [
    "display_output(test_files[3])"
   ]
  },
  {
   "cell_type": "markdown",
   "metadata": {
    "colab_type": "text",
    "id": "2vpI_A3t89Ce"
   },
   "source": [
    "#### <font color=\"blue\">10.5 Scenario 5</font>\n",
    "\n",
    "Testing over a video of people wearing or not wearing mask, good lighting conditions.  Probably will take between 1.5 to 3 min for generate the video."
   ]
  },
  {
   "cell_type": "code",
   "execution_count": null,
   "metadata": {},
   "outputs": [],
   "source": [
    "!darknet\\darknet detector demo $yolo_setup $yolo_test $yolo_best_weights FacialMaskDetector\\test\\test-video1.mp4 -thresh .6 2 -out_filename out-vid1.avi -dont_show\n",
    "Audio(sound_file, autoplay=True)"
   ]
  },
  {
   "cell_type": "markdown",
   "metadata": {
    "colab_type": "text",
    "id": "G-OEDvCI9Itt"
   },
   "source": [
    "#### <font color=\"blue\">10.6 Scenario 6</font>\n",
    "\n",
    "A video of the crowd.  Variable ligth conditions.  The video will be generated between 5 to 7 minutes."
   ]
  },
  {
   "cell_type": "code",
   "execution_count": null,
   "metadata": {
    "colab": {
     "base_uri": "https://localhost:8080/",
     "height": 1000
    },
    "colab_type": "code",
    "executionInfo": {
     "elapsed": 22044271,
     "status": "ok",
     "timestamp": 1591424806273,
     "user": {
      "displayName": "Rangel Alvarado",
      "photoUrl": "https://lh3.googleusercontent.com/a-/AOh14GgrnIdLDrC0TrgBX38dBKASDPlPC_cVM2-325_j=s64",
      "userId": "11539925403577826856"
     },
     "user_tz": 300
    },
    "id": "ojE1UrTQlxOi",
    "outputId": "d6143da1-51c1-48d8-d426-19212387b2b7"
   },
   "outputs": [],
   "source": [
    "!darknet\\darknet detector demo $yolo_setup $yolo_test $yolo_best_weights FacialMaskDetector\\test\\test-video2.mp4 -thresh .6 2 -out_filename out-vid2.avi -dont_show\n",
    "Audio(sound_file, autoplay=True)"
   ]
  },
  {
   "cell_type": "markdown",
   "metadata": {},
   "source": [
    "Finally, move the two videos to the result folder"
   ]
  },
  {
   "cell_type": "code",
   "execution_count": null,
   "metadata": {
    "scrolled": true
   },
   "outputs": [],
   "source": [
    "!powershell -c \"Move-Item out-vid1.avi FacialMaskDetector\\\\result\\\\yolov4\\\\\"\n",
    "!powershell -c \"Move-Item out-vid2.avi FacialMaskDetector\\\\result\\\\yolov4\\\\\""
   ]
  },
  {
   "cell_type": "markdown",
   "metadata": {
    "colab_type": "text",
    "id": "eJz2J3-r6BSD"
   },
   "source": [
    "### <font color=\"blue\">13. Conclusion</font>\n",
    "\n",
    "This concludes the yolo v3 training and inference google colab notebook.\n",
    "\n",
    "The disadvantage of GPU for large training datasets will leave you to wait the availability of free GPUs on the cloud (Colab/Kaggle).\n",
    "\n",
    "There are other alternatives like Azure, Watson and Amazon Web Services, but those ones charge you by GPU usage over time.  \n",
    "\n",
    "For this and other reasons people like to build their \"low cost\" deep learning rig to prepare their trainers. \n",
    "\n",
    "If you like to retrain, you could always start with the final weights and retrain over it, continuing with the last point of training will converge faster to your solution.\n",
    "\n"
   ]
  }
 ],
 "metadata": {
  "accelerator": "GPU",
  "colab": {
   "authorship_tag": "ABX9TyNH5N2hWiydMJu/X3VufwSM",
   "collapsed_sections": [],
   "name": "Facial Mask Detector - YOLOv3.ipynb",
   "provenance": [],
   "toc_visible": true
  },
  "kernelspec": {
   "display_name": "Python 3",
   "language": "python",
   "name": "python3"
  },
  "language_info": {
   "codemirror_mode": {
    "name": "ipython",
    "version": 3
   },
   "file_extension": ".py",
   "mimetype": "text/x-python",
   "name": "python",
   "nbconvert_exporter": "python",
   "pygments_lexer": "ipython3",
   "version": "3.8.2"
  }
 },
 "nbformat": 4,
 "nbformat_minor": 1
}
